{
 "cells": [
  {
   "cell_type": "code",
   "execution_count": 1,
   "metadata": {},
   "outputs": [],
   "source": [
    "import os\n",
    "import pandas as pd\n",
    "import numpy as np\n",
    "import seaborn as sns\n",
    "import matplotlib.pyplot as plt\n",
    "from sklearn import preprocessing, svm, neighbors\n",
    "from itertools import combinations\n",
    "from sklearn.preprocessing import PolynomialFeatures, LabelEncoder, StandardScaler\n",
    "import sklearn.feature_selection\n",
    "from sklearn.model_selection import train_test_split\n",
    "from collections import defaultdict\n",
    "from sklearn import metrics"
   ]
  },
  {
   "cell_type": "code",
   "execution_count": 2,
   "metadata": {},
   "outputs": [],
   "source": [
    "df= pd.read_csv(\"datasets.csv\")\n",
    "df.columns=['cropType','cropDays','soilMoisture','temp','humidity','Irrigation']\n",
    "\n",
    "# The Training Dataset"
   ]
  },
  {
   "cell_type": "code",
   "execution_count": 3,
   "metadata": {
    "scrolled": false
   },
   "outputs": [
    {
     "data": {
      "text/html": [
       "<div>\n",
       "<style scoped>\n",
       "    .dataframe tbody tr th:only-of-type {\n",
       "        vertical-align: middle;\n",
       "    }\n",
       "\n",
       "    .dataframe tbody tr th {\n",
       "        vertical-align: top;\n",
       "    }\n",
       "\n",
       "    .dataframe thead th {\n",
       "        text-align: right;\n",
       "    }\n",
       "</style>\n",
       "<table border=\"1\" class=\"dataframe\">\n",
       "  <thead>\n",
       "    <tr style=\"text-align: right;\">\n",
       "      <th></th>\n",
       "      <th>cropType</th>\n",
       "      <th>cropDays</th>\n",
       "      <th>soilMoisture</th>\n",
       "      <th>temp</th>\n",
       "      <th>humidity</th>\n",
       "      <th>Irrigation</th>\n",
       "    </tr>\n",
       "  </thead>\n",
       "  <tbody>\n",
       "    <tr>\n",
       "      <th>0</th>\n",
       "      <td>2</td>\n",
       "      <td>3</td>\n",
       "      <td>189</td>\n",
       "      <td>24</td>\n",
       "      <td>50</td>\n",
       "      <td>0</td>\n",
       "    </tr>\n",
       "    <tr>\n",
       "      <th>1</th>\n",
       "      <td>2</td>\n",
       "      <td>5</td>\n",
       "      <td>345</td>\n",
       "      <td>21</td>\n",
       "      <td>55</td>\n",
       "      <td>0</td>\n",
       "    </tr>\n",
       "    <tr>\n",
       "      <th>2</th>\n",
       "      <td>2</td>\n",
       "      <td>7</td>\n",
       "      <td>653</td>\n",
       "      <td>20</td>\n",
       "      <td>54</td>\n",
       "      <td>1</td>\n",
       "    </tr>\n",
       "    <tr>\n",
       "      <th>3</th>\n",
       "      <td>2</td>\n",
       "      <td>9</td>\n",
       "      <td>198</td>\n",
       "      <td>21</td>\n",
       "      <td>52</td>\n",
       "      <td>0</td>\n",
       "    </tr>\n",
       "    <tr>\n",
       "      <th>4</th>\n",
       "      <td>2</td>\n",
       "      <td>11</td>\n",
       "      <td>340</td>\n",
       "      <td>24</td>\n",
       "      <td>48</td>\n",
       "      <td>0</td>\n",
       "    </tr>\n",
       "    <tr>\n",
       "      <th>5</th>\n",
       "      <td>2</td>\n",
       "      <td>13</td>\n",
       "      <td>659</td>\n",
       "      <td>26</td>\n",
       "      <td>40</td>\n",
       "      <td>1</td>\n",
       "    </tr>\n",
       "    <tr>\n",
       "      <th>6</th>\n",
       "      <td>2</td>\n",
       "      <td>15</td>\n",
       "      <td>167</td>\n",
       "      <td>24</td>\n",
       "      <td>40</td>\n",
       "      <td>0</td>\n",
       "    </tr>\n",
       "    <tr>\n",
       "      <th>7</th>\n",
       "      <td>2</td>\n",
       "      <td>17</td>\n",
       "      <td>389</td>\n",
       "      <td>21</td>\n",
       "      <td>37</td>\n",
       "      <td>0</td>\n",
       "    </tr>\n",
       "    <tr>\n",
       "      <th>8</th>\n",
       "      <td>2</td>\n",
       "      <td>19</td>\n",
       "      <td>650</td>\n",
       "      <td>22</td>\n",
       "      <td>35</td>\n",
       "      <td>1</td>\n",
       "    </tr>\n",
       "    <tr>\n",
       "      <th>9</th>\n",
       "      <td>2</td>\n",
       "      <td>21</td>\n",
       "      <td>221</td>\n",
       "      <td>26</td>\n",
       "      <td>34</td>\n",
       "      <td>0</td>\n",
       "    </tr>\n",
       "  </tbody>\n",
       "</table>\n",
       "</div>"
      ],
      "text/plain": [
       "   cropType  cropDays  soilMoisture  temp  humidity  Irrigation\n",
       "0         2         3           189    24        50           0\n",
       "1         2         5           345    21        55           0\n",
       "2         2         7           653    20        54           1\n",
       "3         2         9           198    21        52           0\n",
       "4         2        11           340    24        48           0\n",
       "5         2        13           659    26        40           1\n",
       "6         2        15           167    24        40           0\n",
       "7         2        17           389    21        37           0\n",
       "8         2        19           650    22        35           1\n",
       "9         2        21           221    26        34           0"
      ]
     },
     "execution_count": 3,
     "metadata": {},
     "output_type": "execute_result"
    }
   ],
   "source": [
    "df.head(10) \n",
    "#[Wheat, GroundNuts, Garden Flowers, Maize , Paddy , Potato, Pulse, SugarCane, Coffee]"
   ]
  },
  {
   "cell_type": "code",
   "execution_count": 4,
   "metadata": {},
   "outputs": [
    {
     "name": "stdout",
     "output_type": "stream",
     "text": [
      "<class 'pandas.core.frame.DataFrame'>\n",
      "RangeIndex: 500 entries, 0 to 499\n",
      "Data columns (total 6 columns):\n",
      "cropType        500 non-null int64\n",
      "cropDays        500 non-null int64\n",
      "soilMoisture    500 non-null int64\n",
      "temp            500 non-null int64\n",
      "humidity        500 non-null int64\n",
      "Irrigation      500 non-null int64\n",
      "dtypes: int64(6)\n",
      "memory usage: 23.5 KB\n"
     ]
    }
   ],
   "source": [
    "df.info()"
   ]
  },
  {
   "cell_type": "code",
   "execution_count": 5,
   "metadata": {},
   "outputs": [
    {
     "data": {
      "text/plain": [
       "False"
      ]
     },
     "execution_count": 5,
     "metadata": {},
     "output_type": "execute_result"
    }
   ],
   "source": [
    "df.isnull().values.any() # No misssing values "
   ]
  },
  {
   "cell_type": "code",
   "execution_count": 6,
   "metadata": {},
   "outputs": [
    {
     "data": {
      "text/html": [
       "<div>\n",
       "<style scoped>\n",
       "    .dataframe tbody tr th:only-of-type {\n",
       "        vertical-align: middle;\n",
       "    }\n",
       "\n",
       "    .dataframe tbody tr th {\n",
       "        vertical-align: top;\n",
       "    }\n",
       "\n",
       "    .dataframe thead th {\n",
       "        text-align: right;\n",
       "    }\n",
       "</style>\n",
       "<table border=\"1\" class=\"dataframe\">\n",
       "  <thead>\n",
       "    <tr style=\"text-align: right;\">\n",
       "      <th></th>\n",
       "      <th>cropType</th>\n",
       "      <th>cropDays</th>\n",
       "      <th>soilMoisture</th>\n",
       "      <th>temp</th>\n",
       "      <th>humidity</th>\n",
       "      <th>Irrigation</th>\n",
       "    </tr>\n",
       "  </thead>\n",
       "  <tbody>\n",
       "    <tr>\n",
       "      <th>count</th>\n",
       "      <td>500.000000</td>\n",
       "      <td>500.000000</td>\n",
       "      <td>500.000000</td>\n",
       "      <td>500.000000</td>\n",
       "      <td>500.000000</td>\n",
       "      <td>500.000000</td>\n",
       "    </tr>\n",
       "    <tr>\n",
       "      <th>mean</th>\n",
       "      <td>5.014000</td>\n",
       "      <td>64.180000</td>\n",
       "      <td>411.054000</td>\n",
       "      <td>24.686000</td>\n",
       "      <td>39.348000</td>\n",
       "      <td>0.392000</td>\n",
       "    </tr>\n",
       "    <tr>\n",
       "      <th>std</th>\n",
       "      <td>2.754811</td>\n",
       "      <td>45.894665</td>\n",
       "      <td>199.155721</td>\n",
       "      <td>12.123422</td>\n",
       "      <td>22.628632</td>\n",
       "      <td>0.488686</td>\n",
       "    </tr>\n",
       "    <tr>\n",
       "      <th>min</th>\n",
       "      <td>1.000000</td>\n",
       "      <td>1.000000</td>\n",
       "      <td>120.000000</td>\n",
       "      <td>14.000000</td>\n",
       "      <td>11.000000</td>\n",
       "      <td>0.000000</td>\n",
       "    </tr>\n",
       "    <tr>\n",
       "      <th>25%</th>\n",
       "      <td>2.000000</td>\n",
       "      <td>27.000000</td>\n",
       "      <td>230.000000</td>\n",
       "      <td>20.000000</td>\n",
       "      <td>19.000000</td>\n",
       "      <td>0.000000</td>\n",
       "    </tr>\n",
       "    <tr>\n",
       "      <th>50%</th>\n",
       "      <td>5.000000</td>\n",
       "      <td>57.500000</td>\n",
       "      <td>368.000000</td>\n",
       "      <td>24.000000</td>\n",
       "      <td>32.000000</td>\n",
       "      <td>0.000000</td>\n",
       "    </tr>\n",
       "    <tr>\n",
       "      <th>75%</th>\n",
       "      <td>8.000000</td>\n",
       "      <td>90.250000</td>\n",
       "      <td>554.000000</td>\n",
       "      <td>28.250000</td>\n",
       "      <td>65.000000</td>\n",
       "      <td>1.000000</td>\n",
       "    </tr>\n",
       "    <tr>\n",
       "      <th>max</th>\n",
       "      <td>9.000000</td>\n",
       "      <td>210.000000</td>\n",
       "      <td>990.000000</td>\n",
       "      <td>263.000000</td>\n",
       "      <td>85.000000</td>\n",
       "      <td>1.000000</td>\n",
       "    </tr>\n",
       "  </tbody>\n",
       "</table>\n",
       "</div>"
      ],
      "text/plain": [
       "         cropType    cropDays  soilMoisture        temp    humidity  \\\n",
       "count  500.000000  500.000000    500.000000  500.000000  500.000000   \n",
       "mean     5.014000   64.180000    411.054000   24.686000   39.348000   \n",
       "std      2.754811   45.894665    199.155721   12.123422   22.628632   \n",
       "min      1.000000    1.000000    120.000000   14.000000   11.000000   \n",
       "25%      2.000000   27.000000    230.000000   20.000000   19.000000   \n",
       "50%      5.000000   57.500000    368.000000   24.000000   32.000000   \n",
       "75%      8.000000   90.250000    554.000000   28.250000   65.000000   \n",
       "max      9.000000  210.000000    990.000000  263.000000   85.000000   \n",
       "\n",
       "       Irrigation  \n",
       "count  500.000000  \n",
       "mean     0.392000  \n",
       "std      0.488686  \n",
       "min      0.000000  \n",
       "25%      0.000000  \n",
       "50%      0.000000  \n",
       "75%      1.000000  \n",
       "max      1.000000  "
      ]
     },
     "execution_count": 6,
     "metadata": {},
     "output_type": "execute_result"
    }
   ],
   "source": [
    "df.describe()"
   ]
  },
  {
   "cell_type": "code",
   "execution_count": 7,
   "metadata": {},
   "outputs": [
    {
     "data": {
      "image/png": "[encoded data removed]",
      "text/plain": [
       "<Figure size 1440x360 with 1 Axes>"
      ]
     },
     "metadata": {},
     "output_type": "display_data"
    }
   ],
   "source": [
    "sns.set(style=\"darkgrid\")\n",
    "sns.set_palette(\"hls\",3)\n",
    "fig, ax = plt.subplots(figsize=(20,5))\n",
    "ax = sns.countplot(x=\"temp\", hue=\"Irrigation\", data=df)\n",
    "\n",
    "# Dependency of target variable with other columns"
   ]
  },
  {
   "cell_type": "code",
   "execution_count": 8,
   "metadata": {
    "scrolled": false
   },
   "outputs": [
    {
     "data": {
      "image/png": "[encoded data removed]",
      "text/plain": [
       "<Figure size 1440x360 with 1 Axes>"
      ]
     },
     "metadata": {},
     "output_type": "display_data"
    }
   ],
   "source": [
    "sns.set(style=\"darkgrid\")\n",
    "sns.set_palette(\"hls\",3)\n",
    "fig, ax = plt.subplots(figsize=(20,5))\n",
    "ax = sns.countplot(x=\"humidity\", hue=\"Irrigation\", data=df)"
   ]
  },
  {
   "cell_type": "markdown",
   "metadata": {},
   "source": [
    "# Outliers Detection and Treatment"
   ]
  },
  {
   "cell_type": "code",
   "execution_count": 9,
   "metadata": {},
   "outputs": [
    {
     "data": {
      "text/plain": [
       "<matplotlib.axes._subplots.AxesSubplot at 0x1d00d24e2b0>"
      ]
     },
     "execution_count": 9,
     "metadata": {},
     "output_type": "execute_result"
    },
    {
     "data": {
      "image/png": "[encoded data removed]",
      "text/plain": [
       "<Figure size 432x288 with 1 Axes>"
      ]
     },
     "metadata": {},
     "output_type": "display_data"
    }
   ],
   "source": [
    "sns.boxplot(x=df['humidity']) # No outliers"
   ]
  },
  {
   "cell_type": "code",
   "execution_count": 10,
   "metadata": {},
   "outputs": [
    {
     "data": {
      "text/plain": [
       "<matplotlib.axes._subplots.AxesSubplot at 0x1d00cfeb0f0>"
      ]
     },
     "execution_count": 10,
     "metadata": {},
     "output_type": "execute_result"
    },
    {
     "data": {
      "image/png": "[encoded data removed]",
      "text/plain": [
       "<Figure size 432x288 with 1 Axes>"
      ]
     },
     "metadata": {},
     "output_type": "display_data"
    }
   ],
   "source": [
    "sns.boxplot(x=df['soilMoisture']) # No outliers "
   ]
  },
  {
   "cell_type": "code",
   "execution_count": 11,
   "metadata": {},
   "outputs": [
    {
     "data": {
      "text/plain": [
       "<matplotlib.axes._subplots.AxesSubplot at 0x1d00cc8d828>"
      ]
     },
     "execution_count": 11,
     "metadata": {},
     "output_type": "execute_result"
    },
    {
     "data": {
      "image/png": "[encoded data removed]",
      "text/plain": [
       "<Figure size 432x288 with 1 Axes>"
      ]
     },
     "metadata": {},
     "output_type": "display_data"
    }
   ],
   "source": [
    "sns.boxplot(x=df['temp'])"
   ]
  },
  {
   "cell_type": "code",
   "execution_count": 12,
   "metadata": {},
   "outputs": [
    {
     "name": "stdout",
     "output_type": "stream",
     "text": [
      "20.0 28.25\n"
     ]
    }
   ],
   "source": [
    "# IQR Treatment for the outliers \n",
    "q1= df.temp.quantile(0.25)\n",
    "q3= df.temp.quantile(0.75)\n",
    "print(q1,q3)"
   ]
  },
  {
   "cell_type": "code",
   "execution_count": 13,
   "metadata": {},
   "outputs": [
    {
     "name": "stdout",
     "output_type": "stream",
     "text": [
      "7.625 40.625\n"
     ]
    }
   ],
   "source": [
    "iqr= q3-q1\n",
    "\n",
    "lower_limit= q1-1.5*iqr\n",
    "upper_limit= q3+ 1.5*iqr\n",
    "\n",
    "print(lower_limit, upper_limit)"
   ]
  },
  {
   "cell_type": "code",
   "execution_count": 14,
   "metadata": {},
   "outputs": [
    {
     "name": "stdout",
     "output_type": "stream",
     "text": [
      "<class 'pandas.core.frame.DataFrame'>\n",
      "Int64Index: 495 entries, 0 to 499\n",
      "Data columns (total 6 columns):\n",
      "cropType        495 non-null int64\n",
      "cropDays        495 non-null int64\n",
      "soilMoisture    495 non-null int64\n",
      "temp            495 non-null int64\n",
      "humidity        495 non-null int64\n",
      "Irrigation      495 non-null int64\n",
      "dtypes: int64(6)\n",
      "memory usage: 27.1 KB\n"
     ]
    }
   ],
   "source": [
    "new_df= df[(df.temp> lower_limit) & (df.temp< upper_limit)]\n",
    "new_df.info()"
   ]
  },
  {
   "cell_type": "code",
   "execution_count": 15,
   "metadata": {},
   "outputs": [
    {
     "data": {
      "text/html": [
       "<div>\n",
       "<style scoped>\n",
       "    .dataframe tbody tr th:only-of-type {\n",
       "        vertical-align: middle;\n",
       "    }\n",
       "\n",
       "    .dataframe tbody tr th {\n",
       "        vertical-align: top;\n",
       "    }\n",
       "\n",
       "    .dataframe thead th {\n",
       "        text-align: right;\n",
       "    }\n",
       "</style>\n",
       "<table border=\"1\" class=\"dataframe\">\n",
       "  <thead>\n",
       "    <tr style=\"text-align: right;\">\n",
       "      <th></th>\n",
       "      <th>cropType</th>\n",
       "      <th>cropDays</th>\n",
       "      <th>soilMoisture</th>\n",
       "      <th>temp</th>\n",
       "      <th>humidity</th>\n",
       "      <th>Irrigation</th>\n",
       "    </tr>\n",
       "  </thead>\n",
       "  <tbody>\n",
       "    <tr>\n",
       "      <th>cropType</th>\n",
       "      <td>1.000000</td>\n",
       "      <td>0.140536</td>\n",
       "      <td>-0.227214</td>\n",
       "      <td>-0.170107</td>\n",
       "      <td>0.123557</td>\n",
       "      <td>-0.013002</td>\n",
       "    </tr>\n",
       "    <tr>\n",
       "      <th>cropDays</th>\n",
       "      <td>0.140536</td>\n",
       "      <td>1.000000</td>\n",
       "      <td>0.152038</td>\n",
       "      <td>0.098890</td>\n",
       "      <td>-0.061302</td>\n",
       "      <td>-0.084161</td>\n",
       "    </tr>\n",
       "    <tr>\n",
       "      <th>soilMoisture</th>\n",
       "      <td>-0.227214</td>\n",
       "      <td>0.152038</td>\n",
       "      <td>1.000000</td>\n",
       "      <td>0.247847</td>\n",
       "      <td>-0.237808</td>\n",
       "      <td>0.687352</td>\n",
       "    </tr>\n",
       "    <tr>\n",
       "      <th>temp</th>\n",
       "      <td>-0.170107</td>\n",
       "      <td>0.098890</td>\n",
       "      <td>0.247847</td>\n",
       "      <td>1.000000</td>\n",
       "      <td>-0.649049</td>\n",
       "      <td>0.265224</td>\n",
       "    </tr>\n",
       "    <tr>\n",
       "      <th>humidity</th>\n",
       "      <td>0.123557</td>\n",
       "      <td>-0.061302</td>\n",
       "      <td>-0.237808</td>\n",
       "      <td>-0.649049</td>\n",
       "      <td>1.000000</td>\n",
       "      <td>-0.189528</td>\n",
       "    </tr>\n",
       "    <tr>\n",
       "      <th>Irrigation</th>\n",
       "      <td>-0.013002</td>\n",
       "      <td>-0.084161</td>\n",
       "      <td>0.687352</td>\n",
       "      <td>0.265224</td>\n",
       "      <td>-0.189528</td>\n",
       "      <td>1.000000</td>\n",
       "    </tr>\n",
       "  </tbody>\n",
       "</table>\n",
       "</div>"
      ],
      "text/plain": [
       "              cropType  cropDays  soilMoisture      temp  humidity  Irrigation\n",
       "cropType      1.000000  0.140536     -0.227214 -0.170107  0.123557   -0.013002\n",
       "cropDays      0.140536  1.000000      0.152038  0.098890 -0.061302   -0.084161\n",
       "soilMoisture -0.227214  0.152038      1.000000  0.247847 -0.237808    0.687352\n",
       "temp         -0.170107  0.098890      0.247847  1.000000 -0.649049    0.265224\n",
       "humidity      0.123557 -0.061302     -0.237808 -0.649049  1.000000   -0.189528\n",
       "Irrigation   -0.013002 -0.084161      0.687352  0.265224 -0.189528    1.000000"
      ]
     },
     "execution_count": 15,
     "metadata": {},
     "output_type": "execute_result"
    }
   ],
   "source": [
    "new_df.corr()"
   ]
  },
  {
   "cell_type": "code",
   "execution_count": 16,
   "metadata": {},
   "outputs": [],
   "source": [
    "final_df= new_df.drop(['cropDays'], axis=1)"
   ]
  },
  {
   "cell_type": "code",
   "execution_count": 17,
   "metadata": {},
   "outputs": [],
   "source": [
    "final_df= final_df.drop(['cropType'], axis=1) "
   ]
  },
  {
   "cell_type": "code",
   "execution_count": 18,
   "metadata": {},
   "outputs": [
    {
     "data": {
      "text/html": [
       "<div>\n",
       "<style scoped>\n",
       "    .dataframe tbody tr th:only-of-type {\n",
       "        vertical-align: middle;\n",
       "    }\n",
       "\n",
       "    .dataframe tbody tr th {\n",
       "        vertical-align: top;\n",
       "    }\n",
       "\n",
       "    .dataframe thead th {\n",
       "        text-align: right;\n",
       "    }\n",
       "</style>\n",
       "<table border=\"1\" class=\"dataframe\">\n",
       "  <thead>\n",
       "    <tr style=\"text-align: right;\">\n",
       "      <th></th>\n",
       "      <th>soilMoisture</th>\n",
       "      <th>temp</th>\n",
       "      <th>humidity</th>\n",
       "      <th>Irrigation</th>\n",
       "    </tr>\n",
       "  </thead>\n",
       "  <tbody>\n",
       "    <tr>\n",
       "      <th>0</th>\n",
       "      <td>189</td>\n",
       "      <td>24</td>\n",
       "      <td>50</td>\n",
       "      <td>0</td>\n",
       "    </tr>\n",
       "    <tr>\n",
       "      <th>1</th>\n",
       "      <td>345</td>\n",
       "      <td>21</td>\n",
       "      <td>55</td>\n",
       "      <td>0</td>\n",
       "    </tr>\n",
       "    <tr>\n",
       "      <th>2</th>\n",
       "      <td>653</td>\n",
       "      <td>20</td>\n",
       "      <td>54</td>\n",
       "      <td>1</td>\n",
       "    </tr>\n",
       "    <tr>\n",
       "      <th>3</th>\n",
       "      <td>198</td>\n",
       "      <td>21</td>\n",
       "      <td>52</td>\n",
       "      <td>0</td>\n",
       "    </tr>\n",
       "    <tr>\n",
       "      <th>4</th>\n",
       "      <td>340</td>\n",
       "      <td>24</td>\n",
       "      <td>48</td>\n",
       "      <td>0</td>\n",
       "    </tr>\n",
       "  </tbody>\n",
       "</table>\n",
       "</div>"
      ],
      "text/plain": [
       "   soilMoisture  temp  humidity  Irrigation\n",
       "0           189    24        50           0\n",
       "1           345    21        55           0\n",
       "2           653    20        54           1\n",
       "3           198    21        52           0\n",
       "4           340    24        48           0"
      ]
     },
     "execution_count": 18,
     "metadata": {},
     "output_type": "execute_result"
    }
   ],
   "source": [
    "final_df.head()"
   ]
  },
  {
   "cell_type": "code",
   "execution_count": 19,
   "metadata": {},
   "outputs": [],
   "source": [
    "x=np.array(final_df.drop(['Irrigation'],1))\n",
    "y=np.array(final_df['Irrigation'])\n",
    "\n",
    "from sklearn.preprocessing import StandardScaler\n",
    "scaler=StandardScaler()\n",
    "df1=pd.DataFrame(scaler.fit_transform(x),columns=['soilMoisture', 'temp', 'humidity'])"
   ]
  },
  {
   "cell_type": "code",
   "execution_count": 20,
   "metadata": {},
   "outputs": [
    {
     "data": {
      "text/html": [
       "<div>\n",
       "<style scoped>\n",
       "    .dataframe tbody tr th:only-of-type {\n",
       "        vertical-align: middle;\n",
       "    }\n",
       "\n",
       "    .dataframe tbody tr th {\n",
       "        vertical-align: top;\n",
       "    }\n",
       "\n",
       "    .dataframe thead th {\n",
       "        text-align: right;\n",
       "    }\n",
       "</style>\n",
       "<table border=\"1\" class=\"dataframe\">\n",
       "  <thead>\n",
       "    <tr style=\"text-align: right;\">\n",
       "      <th></th>\n",
       "      <th>soilMoisture</th>\n",
       "      <th>temp</th>\n",
       "      <th>humidity</th>\n",
       "    </tr>\n",
       "  </thead>\n",
       "  <tbody>\n",
       "    <tr>\n",
       "      <th>0</th>\n",
       "      <td>-1.112119</td>\n",
       "      <td>-0.012384</td>\n",
       "      <td>0.462399</td>\n",
       "    </tr>\n",
       "    <tr>\n",
       "      <th>1</th>\n",
       "      <td>-0.325850</td>\n",
       "      <td>-0.553272</td>\n",
       "      <td>0.683461</td>\n",
       "    </tr>\n",
       "    <tr>\n",
       "      <th>2</th>\n",
       "      <td>1.226526</td>\n",
       "      <td>-0.733568</td>\n",
       "      <td>0.639249</td>\n",
       "    </tr>\n",
       "    <tr>\n",
       "      <th>3</th>\n",
       "      <td>-1.066758</td>\n",
       "      <td>-0.553272</td>\n",
       "      <td>0.550824</td>\n",
       "    </tr>\n",
       "    <tr>\n",
       "      <th>4</th>\n",
       "      <td>-0.351051</td>\n",
       "      <td>-0.012384</td>\n",
       "      <td>0.373975</td>\n",
       "    </tr>\n",
       "  </tbody>\n",
       "</table>\n",
       "</div>"
      ],
      "text/plain": [
       "   soilMoisture      temp  humidity\n",
       "0     -1.112119 -0.012384  0.462399\n",
       "1     -0.325850 -0.553272  0.683461\n",
       "2      1.226526 -0.733568  0.639249\n",
       "3     -1.066758 -0.553272  0.550824\n",
       "4     -0.351051 -0.012384  0.373975"
      ]
     },
     "execution_count": 20,
     "metadata": {},
     "output_type": "execute_result"
    }
   ],
   "source": [
    "df1.head(5)"
   ]
  },
  {
   "cell_type": "code",
   "execution_count": 21,
   "metadata": {},
   "outputs": [],
   "source": [
    "x_train,x_test,y_train,y_test=train_test_split(df1,y,test_size=0.2,random_state=42)"
   ]
  },
  {
   "cell_type": "code",
   "execution_count": 22,
   "metadata": {
    "scrolled": false
   },
   "outputs": [
    {
     "name": "stdout",
     "output_type": "stream",
     "text": [
      "Logistic Regression: Accuracy = 0.8484848484848485\n",
      "KNN: Accuracy = 0.898989898989899\n",
      "Decision Tree: Accuracy = 0.8383838383838383\n",
      "Random Forest: Accuracy = 0.8383838383838383\n",
      "Gradient Boosting: Accuracy = 0.8484848484848485\n",
      "SVM: Accuracy = 0.8787878787878788\n",
      "Naive Bayes: Accuracy = 0.8484848484848485\n"
     ]
    },
    {
     "name": "stderr",
     "output_type": "stream",
     "text": [
      "C:\\Users\\Rishabh Raj\\Anaconda3\\lib\\site-packages\\sklearn\\linear_model\\logistic.py:432: FutureWarning: Default solver will be changed to 'lbfgs' in 0.22. Specify a solver to silence this warning.\n",
      "  FutureWarning)\n",
      "C:\\Users\\Rishabh Raj\\Anaconda3\\lib\\site-packages\\sklearn\\ensemble\\forest.py:245: FutureWarning: The default value of n_estimators will change from 10 in version 0.20 to 100 in 0.22.\n",
      "  \"10 in version 0.20 to 100 in 0.22.\", FutureWarning)\n",
      "C:\\Users\\Rishabh Raj\\Anaconda3\\lib\\site-packages\\sklearn\\svm\\base.py:193: FutureWarning: The default value of gamma will change from 'auto' to 'scale' in version 0.22 to account better for unscaled features. Set gamma explicitly to 'auto' or 'scale' to avoid this warning.\n",
      "  \"avoid this warning.\", FutureWarning)\n"
     ]
    }
   ],
   "source": [
    "import pandas as pd\n",
    "from sklearn.model_selection import train_test_split\n",
    "from sklearn.linear_model import LogisticRegression\n",
    "from sklearn.neighbors import KNeighborsClassifier\n",
    "from sklearn.tree import DecisionTreeClassifier\n",
    "from sklearn.ensemble import RandomForestClassifier, GradientBoostingClassifier\n",
    "from sklearn.svm import SVC\n",
    "from sklearn.naive_bayes import GaussianNB\n",
    "from sklearn.metrics import accuracy_score\n",
    "\n",
    "classifiers = {\n",
    "    \"Logistic Regression\": LogisticRegression(),\n",
    "    \"KNN\": KNeighborsClassifier(),\n",
    "    \"Decision Tree\": DecisionTreeClassifier(),\n",
    "    \"Random Forest\": RandomForestClassifier(),\n",
    "    \"Gradient Boosting\": GradientBoostingClassifier(),\n",
    "    \"SVM\": SVC(),\n",
    "    \"Naive Bayes\": GaussianNB()\n",
    "}\n",
    "\n",
    "for name, classifier in classifiers.items():\n",
    "    classifier.fit(x_train, y_train)\n",
    "    y_pred = classifier.predict(x_test)\n",
    "    acc = accuracy_score(y_test, y_pred)\n",
    "    print(f\"{name}: Accuracy = {acc}\") \n",
    "    "
   ]
  },
  {
   "cell_type": "code",
   "execution_count": 23,
   "metadata": {},
   "outputs": [
    {
     "name": "stdout",
     "output_type": "stream",
     "text": [
      "89.8989898989899\n"
     ]
    }
   ],
   "source": [
    "clf_knn=neighbors.KNeighborsClassifier()\n",
    "clf_knn.fit(x_train,y_train)\n",
    "y_score_knn = clf_knn.predict_proba(x_test)[:, 1]\n",
    "y_score_knn\n",
    "y_pred_knn = clf_knn.predict(x_test)\n",
    "acc_knn = accuracy_score(y_test, y_pred_knn)\n",
    "print(acc_knn*100)"
   ]
  },
  {
   "cell_type": "markdown",
   "metadata": {},
   "source": [
    "# Testing our model"
   ]
  },
  {
   "cell_type": "markdown",
   "metadata": {},
   "source": [
    "# Arduino"
   ]
  },
  {
   "cell_type": "code",
   "execution_count": 24,
   "metadata": {},
   "outputs": [],
   "source": [
    "import serial\n",
    "import time\n",
    "import schedule"
   ]
  },
  {
   "cell_type": "code",
   "execution_count": 39,
   "metadata": {},
   "outputs": [
    {
     "name": "stdout",
     "output_type": "stream",
     "text": [
      "Program started\n",
      "Established serial connection to Arduino\n",
      "Collected readings from Arduino: [904.0, 33.3, 56.0]\n",
      "Irrigation is needed and Motor is switched on !!\n",
      "Connection closed\n",
      "<----------------------------->\n",
      "Established serial connection to Arduino\n",
      "Collected readings from Arduino: [910.0, 33.3, 56.0]\n",
      "Irrigation is needed and Motor is switched on !!\n",
      "Connection closed\n",
      "<----------------------------->\n",
      "Established serial connection to Arduino\n",
      "Collected readings from Arduino: [915.0, 33.3, 56.0]\n",
      "Irrigation is needed and Motor is switched on !!\n",
      "Connection closed\n",
      "<----------------------------->\n",
      "Established serial connection to Arduino\n",
      "Collected readings from Arduino: [918.0, 33.3, 56.0]\n",
      "Irrigation is needed and Motor is switched on !!\n",
      "Connection closed\n",
      "<----------------------------->\n",
      "Established serial connection to Arduino\n",
      "Collected readings from Arduino: [923.0, 33.3, 56.0]\n",
      "Irrigation is needed and Motor is switched on !!\n",
      "Connection closed\n",
      "<----------------------------->\n",
      "Established serial connection to Arduino\n",
      "Collected readings from Arduino: [927.0, 33.3, 56.0]\n",
      "Irrigation is needed and Motor is switched on !!\n",
      "Connection closed\n",
      "<----------------------------->\n",
      "Established serial connection to Arduino\n",
      "Collected readings from Arduino: [860.0, 33.3, 56.0]\n",
      "Irrigation is needed and Motor is switched on !!\n",
      "Connection closed\n",
      "<----------------------------->\n",
      "Established serial connection to Arduino\n",
      "Collected readings from Arduino: [466.0, 33.3, 56.0]\n",
      "Irrigation is needed and Motor is switched on !!\n",
      "Connection closed\n",
      "<----------------------------->\n",
      "Established serial connection to Arduino\n",
      "Collected readings from Arduino: [538.0, 33.3, 56.0]\n",
      "IMotor has been turned off\n",
      "Connection closed\n",
      "<----------------------------->\n",
      "Established serial connection to Arduino\n",
      "Collected readings from Arduino: [592.0, 33.3, 56.0]\n",
      "IMotor has been turned off\n",
      "Connection closed\n",
      "<----------------------------->\n",
      "Established serial connection to Arduino\n",
      "Collected readings from Arduino: [636.0, 33.3, 56.0]\n",
      "IMotor has been turned off\n",
      "Connection closed\n",
      "<----------------------------->\n",
      "Established serial connection to Arduino\n",
      "Collected readings from Arduino: [674.0, 33.3, 56.0]\n",
      "Irrigation is needed and Motor is switched on !!\n",
      "Connection closed\n",
      "<----------------------------->\n",
      "Established serial connection to Arduino\n",
      "Collected readings from Arduino: [699.0, 33.3, 56.0]\n",
      "Irrigation is needed and Motor is switched on !!\n",
      "Connection closed\n",
      "<----------------------------->\n",
      "Established serial connection to Arduino\n",
      "Collected readings from Arduino: [715.0, 33.3, 56.0]\n",
      "Motor has been turned off\n",
      "Connection closed\n",
      "<----------------------------->\n",
      "Established serial connection to Arduino\n",
      "Collected readings from Arduino: [727.0, 33.3, 56.0]\n",
      "Motor has been turned off\n",
      "Connection closed\n",
      "<----------------------------->\n",
      "Established serial connection to Arduino\n",
      "Collected readings from Arduino: [733.0, 33.3, 56.0]\n",
      "Irrigation is needed and Motor is switched on !!\n",
      "Connection closed\n",
      "<----------------------------->\n",
      "Established serial connection to Arduino\n",
      "Collected readings from Arduino: [726.0, 33.3, 56.0]\n",
      "Irrigation is needed and Motor is switched on !!\n",
      "Connection closed\n",
      "<----------------------------->\n",
      "Established serial connection to Arduino\n",
      "Collected readings from Arduino: [729.0, 33.3, 56.0]\n",
      "Irrigation is needed and Motor is switched on !!\n",
      "Connection closed\n",
      "<----------------------------->\n",
      "Established serial connection to Arduino\n",
      "Collected readings from Arduino: [730.0, 33.3, 56.0]\n",
      "Irrigation is needed and Motor is switched on !!\n",
      "Connection closed\n",
      "<----------------------------->\n",
      "Established serial connection to Arduino\n",
      "Collected readings from Arduino: [715.0, 33.3, 56.0]\n",
      "Irrigation is needed and Motor is switched on !!\n",
      "Connection closed\n",
      "<----------------------------->\n",
      "Established serial connection to Arduino\n",
      "Collected readings from Arduino: [777.0, 33.3, 56.0]\n",
      "Irrigation is needed and Motor is switched on !!\n",
      "Connection closed\n",
      "<----------------------------->\n",
      "Established serial connection to Arduino\n",
      "Collected readings from Arduino: [818.0, 33.3, 56.0]\n",
      "Irrigation is needed and Motor is switched on !!\n",
      "Connection closed\n",
      "<----------------------------->\n",
      "Established serial connection to Arduino\n",
      "Collected readings from Arduino: [842.0, 33.3, 56.0]\n",
      "Irrigation is needed and Motor is switched on !!\n",
      "Connection closed\n",
      "<----------------------------->\n",
      "Established serial connection to Arduino\n",
      "Collected readings from Arduino: [863.0, 33.3, 56.0]\n",
      "IMotor has been turned off\n",
      "Connection closed\n",
      "<----------------------------->\n",
      "Established serial connection to Arduino\n",
      "Collected readings from Arduino: [881.0, 33.3, 56.0]\n",
      "IMotor has been turned off\n",
      "Connection closed\n",
      "<----------------------------->\n",
      "Established serial connection to Arduino\n",
      "Collected readings from Arduino: [893.0, 33.3, 56.0]\n",
      "IMotor has been turned off\n",
      "Connection closed\n",
      "<----------------------------->\n",
      "Established serial connection to Arduino\n",
      "Collected readings from Arduino: [902.0, 33.3, 56.0]\n",
      "Irrigation is needed and Motor is switched on !!\n",
      "Connection closed\n",
      "<----------------------------->\n",
      "Established serial connection to Arduino\n",
      "Collected readings from Arduino: [911.0, 33.3, 56.0]\n",
      "Irrigation is needed and Motor is switched on !!\n",
      "Connection closed\n",
      "<----------------------------->\n",
      "Established serial connection to Arduino\n",
      "Collected readings from Arduino: [914.0, 33.3, 56.0]\n",
      "Motor has been turned off\n",
      "Connection closed\n",
      "<----------------------------->\n",
      "Established serial connection to Arduino\n",
      "Collected readings from Arduino: [917.0, 33.3, 56.0]\n",
      "Motor has been turned off\n",
      "Connection closed\n",
      "<----------------------------->\n",
      "Established serial connection to Arduino\n",
      "Collected readings from Arduino: [919.0, 33.3, 56.0]\n",
      "Irrigation is needed and Motor is switched on !!\n",
      "Connection closed\n",
      "<----------------------------->\n",
      "Established serial connection to Arduino\n",
      "Collected readings from Arduino: [921.0, 33.3, 56.0]\n",
      "Irrigation is needed and Motor is switched on !!\n",
      "Connection closed\n",
      "<----------------------------->\n",
      "Established serial connection to Arduino\n",
      "Collected readings from Arduino: [924.0, 33.3, 56.0]\n",
      "Irrigation is needed and Motor is switched on !!\n",
      "Connection closed\n",
      "<----------------------------->\n",
      "Established serial connection to Arduino\n",
      "Collected readings from Arduino: [926.0, 33.3, 56.0]\n",
      "Irrigation is needed and Motor is switched on !!\n",
      "Connection closed\n",
      "<----------------------------->\n",
      "Established serial connection to Arduino\n",
      "Collected readings from Arduino: [929.0, 33.3, 56.0]\n",
      "Irrigation is needed and Motor is switched on !!\n",
      "Connection closed\n",
      "<----------------------------->\n",
      "Established serial connection to Arduino\n",
      "Collected readings from Arduino: [932.0, 33.3, 56.0]\n",
      "Irrigation is needed and Motor is switched on !!\n",
      "Connection closed\n",
      "<----------------------------->\n",
      "Established serial connection to Arduino\n",
      "Collected readings from Arduino: [934.0, 33.3, 56.0]\n",
      "Irrigation is needed and Motor is switched on !!\n",
      "Connection closed\n",
      "<----------------------------->\n",
      "Established serial connection to Arduino\n",
      "Collected readings from Arduino: [935.0, 33.3, 56.0]\n",
      "Irrigation is needed and Motor is switched on !!\n",
      "Connection closed\n",
      "<----------------------------->\n",
      "Established serial connection to Arduino\n",
      "Collected readings from Arduino: [937.0, 33.3, 56.0]\n",
      "IMotor has been turned off\n",
      "Connection closed\n",
      "<----------------------------->\n",
      "Established serial connection to Arduino\n",
      "Collected readings from Arduino: [938.0, 33.3, 56.0]\n",
      "IMotor has been turned off\n",
      "Connection closed\n",
      "<----------------------------->\n",
      "Established serial connection to Arduino\n",
      "Collected readings from Arduino: [941.0, 33.3, 56.0]\n",
      "IMotor has been turned off\n",
      "Connection closed\n",
      "<----------------------------->\n",
      "Established serial connection to Arduino\n"
     ]
    },
    {
     "ename": "ValueError",
     "evalue": "could not convert string to float: ",
     "output_type": "error",
     "traceback": [
      "\u001b[1;31m---------------------------------------------------------------------------\u001b[0m",
      "\u001b[1;31mValueError\u001b[0m                                Traceback (most recent call last)",
      "\u001b[1;32m<ipython-input-39-069145fd47c9>\u001b[0m in \u001b[0;36m<module>\u001b[1;34m\u001b[0m\n\u001b[0;32m     40\u001b[0m \u001b[1;33m\u001b[0m\u001b[0m\n\u001b[0;32m     41\u001b[0m \u001b[1;32mwhile\u001b[0m \u001b[1;32mTrue\u001b[0m\u001b[1;33m:\u001b[0m\u001b[1;33m\u001b[0m\u001b[1;33m\u001b[0m\u001b[0m\n\u001b[1;32m---> 42\u001b[1;33m     \u001b[0mschedule\u001b[0m\u001b[1;33m.\u001b[0m\u001b[0mrun_pending\u001b[0m\u001b[1;33m(\u001b[0m\u001b[1;33m)\u001b[0m\u001b[1;33m\u001b[0m\u001b[1;33m\u001b[0m\u001b[0m\n\u001b[0m\u001b[0;32m     43\u001b[0m     \u001b[0mtime\u001b[0m\u001b[1;33m.\u001b[0m\u001b[0msleep\u001b[0m\u001b[1;33m(\u001b[0m\u001b[1;36m1\u001b[0m\u001b[1;33m)\u001b[0m\u001b[1;33m\u001b[0m\u001b[1;33m\u001b[0m\u001b[0m\n",
      "\u001b[1;32m~\\Anaconda3\\lib\\site-packages\\schedule\\__init__.py\u001b[0m in \u001b[0;36mrun_pending\u001b[1;34m()\u001b[0m\n\u001b[0;32m    778\u001b[0m     \u001b[1;33m:\u001b[0m\u001b[0mdata\u001b[0m\u001b[1;33m:\u001b[0m\u001b[0;31m`\u001b[0m\u001b[0mdefault\u001b[0m \u001b[0mscheduler\u001b[0m \u001b[0minstance\u001b[0m \u001b[1;33m<\u001b[0m\u001b[0mdefault_scheduler\u001b[0m\u001b[1;33m>\u001b[0m\u001b[0;31m`\u001b[0m\u001b[1;33m.\u001b[0m\u001b[1;33m\u001b[0m\u001b[1;33m\u001b[0m\u001b[0m\n\u001b[0;32m    779\u001b[0m     \"\"\"\n\u001b[1;32m--> 780\u001b[1;33m     \u001b[0mdefault_scheduler\u001b[0m\u001b[1;33m.\u001b[0m\u001b[0mrun_pending\u001b[0m\u001b[1;33m(\u001b[0m\u001b[1;33m)\u001b[0m\u001b[1;33m\u001b[0m\u001b[1;33m\u001b[0m\u001b[0m\n\u001b[0m\u001b[0;32m    781\u001b[0m \u001b[1;33m\u001b[0m\u001b[0m\n\u001b[0;32m    782\u001b[0m \u001b[1;33m\u001b[0m\u001b[0m\n",
      "\u001b[1;32m~\\Anaconda3\\lib\\site-packages\\schedule\\__init__.py\u001b[0m in \u001b[0;36mrun_pending\u001b[1;34m(self)\u001b[0m\n\u001b[0;32m     98\u001b[0m         \u001b[0mrunnable_jobs\u001b[0m \u001b[1;33m=\u001b[0m \u001b[1;33m(\u001b[0m\u001b[0mjob\u001b[0m \u001b[1;32mfor\u001b[0m \u001b[0mjob\u001b[0m \u001b[1;32min\u001b[0m \u001b[0mself\u001b[0m\u001b[1;33m.\u001b[0m\u001b[0mjobs\u001b[0m \u001b[1;32mif\u001b[0m \u001b[0mjob\u001b[0m\u001b[1;33m.\u001b[0m\u001b[0mshould_run\u001b[0m\u001b[1;33m)\u001b[0m\u001b[1;33m\u001b[0m\u001b[1;33m\u001b[0m\u001b[0m\n\u001b[0;32m     99\u001b[0m         \u001b[1;32mfor\u001b[0m \u001b[0mjob\u001b[0m \u001b[1;32min\u001b[0m \u001b[0msorted\u001b[0m\u001b[1;33m(\u001b[0m\u001b[0mrunnable_jobs\u001b[0m\u001b[1;33m)\u001b[0m\u001b[1;33m:\u001b[0m\u001b[1;33m\u001b[0m\u001b[1;33m\u001b[0m\u001b[0m\n\u001b[1;32m--> 100\u001b[1;33m             \u001b[0mself\u001b[0m\u001b[1;33m.\u001b[0m\u001b[0m_run_job\u001b[0m\u001b[1;33m(\u001b[0m\u001b[0mjob\u001b[0m\u001b[1;33m)\u001b[0m\u001b[1;33m\u001b[0m\u001b[1;33m\u001b[0m\u001b[0m\n\u001b[0m\u001b[0;32m    101\u001b[0m \u001b[1;33m\u001b[0m\u001b[0m\n\u001b[0;32m    102\u001b[0m     \u001b[1;32mdef\u001b[0m \u001b[0mrun_all\u001b[0m\u001b[1;33m(\u001b[0m\u001b[0mself\u001b[0m\u001b[1;33m,\u001b[0m \u001b[0mdelay_seconds\u001b[0m\u001b[1;33m:\u001b[0m \u001b[0mint\u001b[0m \u001b[1;33m=\u001b[0m \u001b[1;36m0\u001b[0m\u001b[1;33m)\u001b[0m \u001b[1;33m->\u001b[0m \u001b[1;32mNone\u001b[0m\u001b[1;33m:\u001b[0m\u001b[1;33m\u001b[0m\u001b[1;33m\u001b[0m\u001b[0m\n",
      "\u001b[1;32m~\\Anaconda3\\lib\\site-packages\\schedule\\__init__.py\u001b[0m in \u001b[0;36m_run_job\u001b[1;34m(self, job)\u001b[0m\n\u001b[0;32m    170\u001b[0m \u001b[1;33m\u001b[0m\u001b[0m\n\u001b[0;32m    171\u001b[0m     \u001b[1;32mdef\u001b[0m \u001b[0m_run_job\u001b[0m\u001b[1;33m(\u001b[0m\u001b[0mself\u001b[0m\u001b[1;33m,\u001b[0m \u001b[0mjob\u001b[0m\u001b[1;33m:\u001b[0m \u001b[1;34m\"Job\"\u001b[0m\u001b[1;33m)\u001b[0m \u001b[1;33m->\u001b[0m \u001b[1;32mNone\u001b[0m\u001b[1;33m:\u001b[0m\u001b[1;33m\u001b[0m\u001b[1;33m\u001b[0m\u001b[0m\n\u001b[1;32m--> 172\u001b[1;33m         \u001b[0mret\u001b[0m \u001b[1;33m=\u001b[0m \u001b[0mjob\u001b[0m\u001b[1;33m.\u001b[0m\u001b[0mrun\u001b[0m\u001b[1;33m(\u001b[0m\u001b[1;33m)\u001b[0m\u001b[1;33m\u001b[0m\u001b[1;33m\u001b[0m\u001b[0m\n\u001b[0m\u001b[0;32m    173\u001b[0m         \u001b[1;32mif\u001b[0m \u001b[0misinstance\u001b[0m\u001b[1;33m(\u001b[0m\u001b[0mret\u001b[0m\u001b[1;33m,\u001b[0m \u001b[0mCancelJob\u001b[0m\u001b[1;33m)\u001b[0m \u001b[1;32mor\u001b[0m \u001b[0mret\u001b[0m \u001b[1;32mis\u001b[0m \u001b[0mCancelJob\u001b[0m\u001b[1;33m:\u001b[0m\u001b[1;33m\u001b[0m\u001b[1;33m\u001b[0m\u001b[0m\n\u001b[0;32m    174\u001b[0m             \u001b[0mself\u001b[0m\u001b[1;33m.\u001b[0m\u001b[0mcancel_job\u001b[0m\u001b[1;33m(\u001b[0m\u001b[0mjob\u001b[0m\u001b[1;33m)\u001b[0m\u001b[1;33m\u001b[0m\u001b[1;33m\u001b[0m\u001b[0m\n",
      "\u001b[1;32m~\\Anaconda3\\lib\\site-packages\\schedule\\__init__.py\u001b[0m in \u001b[0;36mrun\u001b[1;34m(self)\u001b[0m\n\u001b[0;32m    659\u001b[0m \u001b[1;33m\u001b[0m\u001b[0m\n\u001b[0;32m    660\u001b[0m         \u001b[0mlogger\u001b[0m\u001b[1;33m.\u001b[0m\u001b[0mdebug\u001b[0m\u001b[1;33m(\u001b[0m\u001b[1;34m\"Running job %s\"\u001b[0m\u001b[1;33m,\u001b[0m \u001b[0mself\u001b[0m\u001b[1;33m)\u001b[0m\u001b[1;33m\u001b[0m\u001b[1;33m\u001b[0m\u001b[0m\n\u001b[1;32m--> 661\u001b[1;33m         \u001b[0mret\u001b[0m \u001b[1;33m=\u001b[0m \u001b[0mself\u001b[0m\u001b[1;33m.\u001b[0m\u001b[0mjob_func\u001b[0m\u001b[1;33m(\u001b[0m\u001b[1;33m)\u001b[0m\u001b[1;33m\u001b[0m\u001b[1;33m\u001b[0m\u001b[0m\n\u001b[0m\u001b[0;32m    662\u001b[0m         \u001b[0mself\u001b[0m\u001b[1;33m.\u001b[0m\u001b[0mlast_run\u001b[0m \u001b[1;33m=\u001b[0m \u001b[0mdatetime\u001b[0m\u001b[1;33m.\u001b[0m\u001b[0mdatetime\u001b[0m\u001b[1;33m.\u001b[0m\u001b[0mnow\u001b[0m\u001b[1;33m(\u001b[0m\u001b[1;33m)\u001b[0m\u001b[1;33m\u001b[0m\u001b[1;33m\u001b[0m\u001b[0m\n\u001b[0;32m    663\u001b[0m         \u001b[0mself\u001b[0m\u001b[1;33m.\u001b[0m\u001b[0m_schedule_next_run\u001b[0m\u001b[1;33m(\u001b[0m\u001b[1;33m)\u001b[0m\u001b[1;33m\u001b[0m\u001b[1;33m\u001b[0m\u001b[0m\n",
      "\u001b[1;32m<ipython-input-28-8941dd1b5b39>\u001b[0m in \u001b[0;36mmain_func\u001b[1;34m()\u001b[0m\n\u001b[0;32m      8\u001b[0m \u001b[1;33m\u001b[0m\u001b[0m\n\u001b[0;32m      9\u001b[0m     \u001b[1;32mfor\u001b[0m \u001b[0mitem\u001b[0m \u001b[1;32min\u001b[0m \u001b[0mlist_values\u001b[0m\u001b[1;33m:\u001b[0m\u001b[1;33m\u001b[0m\u001b[1;33m\u001b[0m\u001b[0m\n\u001b[1;32m---> 10\u001b[1;33m         \u001b[0mlist_in_floats\u001b[0m\u001b[1;33m.\u001b[0m\u001b[0mappend\u001b[0m\u001b[1;33m(\u001b[0m\u001b[0mfloat\u001b[0m\u001b[1;33m(\u001b[0m\u001b[0mitem\u001b[0m\u001b[1;33m)\u001b[0m\u001b[1;33m)\u001b[0m\u001b[1;33m\u001b[0m\u001b[1;33m\u001b[0m\u001b[0m\n\u001b[0m\u001b[0;32m     11\u001b[0m \u001b[1;33m\u001b[0m\u001b[0m\n\u001b[0;32m     12\u001b[0m     \u001b[0mprint\u001b[0m\u001b[1;33m(\u001b[0m\u001b[1;34mf'Collected readings from Arduino: {list_in_floats}'\u001b[0m\u001b[1;33m)\u001b[0m\u001b[1;33m\u001b[0m\u001b[1;33m\u001b[0m\u001b[0m\n",
      "\u001b[1;31mValueError\u001b[0m: could not convert string to float: "
     ]
    }
   ],
   "source": [
    "def main_func():\n",
    "    arduino = serial.Serial('com8', 9600)\n",
    "    print('Established serial connection to Arduino')\n",
    "    arduino_data = arduino.readline()\n",
    "\n",
    "    decoded_values = str(arduino_data[0:len(arduino_data)].decode(\"utf-8\"))\n",
    "    list_values = decoded_values.split('x')\n",
    "\n",
    "    for item in list_values:\n",
    "        list_in_floats.append(float(item))\n",
    "\n",
    "    print(f'Collected readings from Arduino: {list_in_floats}')\n",
    "    live_data= np.array(list_in_floats)\n",
    "    live_data= live_data.reshape([1,-1])\n",
    "    prediction= clf_knn.predict(live_data)\n",
    "    \n",
    "    # Sends back the signal to arduino \n",
    "    if(prediction ==1):\n",
    "        print(\"Irrigation is needed and Motor is switched on !!\")\n",
    "        arduino.write(b'1')\n",
    "    else:\n",
    "        print(\"IMotor has been turned off\")\n",
    "        arduino.write(b'0')\n",
    "        \n",
    "\n",
    "    arduino_data = 0\n",
    "    list_in_floats.clear()\n",
    "    list_values.clear()\n",
    "    arduino.close()\n",
    "    print('Connection closed')\n",
    "    print('<----------------------------->')\n",
    "    \n",
    "# Declare variables to be used\n",
    "list_values = []\n",
    "list_in_floats = []\n",
    "\n",
    "print('Program started')\n",
    "#Setting up the Arduino5\n",
    "schedule.every(5).seconds.do(main_func)\n",
    "\n",
    "while True:\n",
    "    schedule.run_pending()\n",
    "    time.sleep(1)\n"
   ]
  },
  {
   "cell_type": "code",
   "execution_count": null,
   "metadata": {},
   "outputs": [],
   "source": []
  }
 ],
 "metadata": {
  "kernelspec": {
   "display_name": "Python 3 (ipykernel)",
   "language": "python",
   "name": "python3"
  },
  "language_info": {
   "codemirror_mode": {
    "name": "ipython",
    "version": 3
   },
   "file_extension": ".py",
   "mimetype": "text/x-python",
   "name": "python",
   "nbconvert_exporter": "python",
   "pygments_lexer": "ipython3",
   "version": "3.9.13"
  }
 },
 "nbformat": 4,
 "nbformat_minor": 2
}
